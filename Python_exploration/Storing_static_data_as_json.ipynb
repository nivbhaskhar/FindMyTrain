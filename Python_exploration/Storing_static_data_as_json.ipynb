{
 "cells": [
  {
   "cell_type": "markdown",
   "metadata": {},
   "source": [
    "# Storing relevant LA Metro static data as jsons"
   ]
  },
  {
   "cell_type": "code",
   "execution_count": 1,
   "metadata": {},
   "outputs": [],
   "source": [
    "from collections import defaultdict\n",
    "import json, requests\n",
    "import pprint\n",
    "import math\n",
    "#from collections import namedtuple\n",
    "import matplotlib as mpl\n",
    "import matplotlib.pyplot as plt\n",
    "plt.style.use('classic')\n",
    "import numpy as np\n",
    "import pickle\n",
    "\n",
    "%matplotlib inline"
   ]
  },
  {
   "cell_type": "markdown",
   "metadata": {},
   "source": [
    "# Loading pickled data"
   ]
  },
  {
   "cell_type": "code",
   "execution_count": 2,
   "metadata": {},
   "outputs": [
    {
     "name": "stdout",
     "output_type": "stream",
     "text": [
      "dict_keys(['routes', 'stops', 'stop_coordinates_and_distances', 'current_vehicles', 'route_wise_current_vehicles'])\n"
     ]
    }
   ],
   "source": [
    "#Open data file with pickled data in read mode (binary format)\n",
    "static_LAmetro_data_fileobj = open('static_LAmetro_data', 'rb') \n",
    "\n",
    "#Get pickled data\n",
    "static_data = pickle.load(static_LAmetro_data_fileobj)\n",
    "\n",
    "\n",
    "print(static_data.keys())"
   ]
  },
  {
   "cell_type": "code",
   "execution_count": 3,
   "metadata": {},
   "outputs": [],
   "source": [
    "routes = static_data['routes']\n",
    "stops = static_data['stops']\n",
    "stop_coordinates_and_distances = static_data['stop_coordinates_and_distances']\n",
    "current_vehicles = static_data['current_vehicles']\n",
    "route_wise_current_vehicles = static_data['route_wise_current_vehicles']"
   ]
  },
  {
   "cell_type": "markdown",
   "metadata": {},
   "source": [
    "# Deleting  irrelevant data"
   ]
  },
  {
   "cell_type": "code",
   "execution_count": 4,
   "metadata": {},
   "outputs": [
    {
     "name": "stdout",
     "output_type": "stream",
     "text": [
      "dict_keys(['no_of_stops', 'stop_sequence', 'stop_coordinates', 'stop_distances', 'widths_between_stops', 'heights_between_stops', 'min_consecutive_distance', 'max_consecutive_distance', 'end_to_end', 'scaled_distances'])\n"
     ]
    }
   ],
   "source": [
    "pprint.pprint(stop_coordinates_and_distances['801'].keys())"
   ]
  },
  {
   "cell_type": "code",
   "execution_count": 5,
   "metadata": {},
   "outputs": [],
   "source": [
    "for route in stop_coordinates_and_distances:\n",
    "    del stop_coordinates_and_distances[route]['scaled_distances']\n",
    "    del stop_coordinates_and_distances[route]['widths_between_stops']\n",
    "    del stop_coordinates_and_distances[route]['heights_between_stops']\n",
    "    del stop_coordinates_and_distances[route]['min_consecutive_distance']\n",
    "    del stop_coordinates_and_distances[route]['max_consecutive_distance']\n",
    "\n",
    "\n",
    "    "
   ]
  },
  {
   "cell_type": "markdown",
   "metadata": {},
   "source": [
    "# Adding relevant data"
   ]
  },
  {
   "cell_type": "code",
   "execution_count": 6,
   "metadata": {},
   "outputs": [
    {
     "name": "stdout",
     "output_type": "stream",
     "text": [
      "blue\n",
      "'7th Street / Metro Center Station - Metro A Line (Blue) & E Line (Expo)'\n",
      "'Pico Station'\n",
      "'Grand / Lattc Station'\n",
      "'San Pedro Street Station'\n",
      "'Washington Station'\n",
      "'Vernon Station'\n",
      "'Slauson Station'\n",
      "'Florence Station'\n",
      "'Firestone Station'\n",
      "'103rd Street / Watts Towers Station'\n",
      "'Willowbrook - Rosa Parks Station - Metro A Line (Blue)'\n",
      "'Compton Station'\n",
      "'Artesia Station'\n",
      "'Del Amo Station'\n",
      "'Wardlow Station'\n",
      "'Willow Street Station'\n",
      "'Pacific Coast Hwy Station'\n",
      "'Anaheim Street Station'\n",
      "'5th Street Station'\n",
      "'1st Street Station'\n",
      "'Downtown Long Beach Station'\n",
      "******\n",
      "red\n",
      "'North Hollywood Station'\n",
      "'Universal / Studio City Station'\n",
      "'Hollywood / Highland Station'\n",
      "'Hollywood / Vine Station'\n",
      "'Hollywood / Western Station'\n",
      "'Vermont / Sunset Station'\n",
      "'Vermont / Santa Monica Station'\n",
      "'Vermont / Beverly Station'\n",
      "'Wilshire / Vermont Station'\n",
      "'Westlake / Macarthur Park Station'\n",
      "'7th Street / Metro Center Station - Metro Red & Purple Lines'\n",
      "'Pershing Square Station'\n",
      "'Civic Center / Grand Park Station'\n",
      "'Union Station - Metro Red & Purple Lines'\n",
      "******\n",
      "green\n",
      "'Redondo Beach Station'\n",
      "'Douglas Station'\n",
      "'El Segundo Station'\n",
      "'Mariposa Station'\n",
      "'Aviation / Lax Station'\n",
      "'Hawthorne / Lennox Station'\n",
      "'Crenshaw Station'\n",
      "'Vermont / Athens Station'\n",
      "'Harbor Freeway Station'\n",
      "'Avalon Station'\n",
      "'Willowbrook - Rosa Parks Station - Metro Green Line'\n",
      "'Long Beach Blvd Station'\n",
      "'Lakewood Blvd Station'\n",
      "'Norwalk Station'\n",
      "******\n",
      "gold\n",
      "'Atlantic Station'\n",
      "'East La Civic Center Station'\n",
      "'Maravilla Station'\n",
      "'Indiana Station'\n",
      "'Soto Station'\n",
      "'Mariachi Plaza / Boyle Heights Station'\n",
      "'Pico / Aliso Station'\n",
      "'Little Tokyo / Arts District Station'\n",
      "'Union Station - Metro Gold Line'\n",
      "'Chinatown Station'\n",
      "'Lincoln Heights / Cypress Park Station'\n",
      "'Heritage Square / Arroyo Station'\n",
      "'Southwest Museum Station'\n",
      "'Highland Park Station'\n",
      "'South Pasadena Station'\n",
      "'Fillmore Station'\n",
      "'Del Mar Station'\n",
      "'Memorial Park Station'\n",
      "'Lake Station'\n",
      "'Allen Station'\n",
      "'Sierra Madre Villa Station'\n",
      "'Arcadia Station'\n",
      "'Monrovia Station'\n",
      "'Duarte / City Of Hope Station'\n",
      "'Irwindale Station'\n",
      "'Azusa Downtown Station'\n",
      "'Apu / Citrus College Station'\n",
      "******\n",
      "purple\n",
      "'Union Station - Metro Red & Purple Lines'\n",
      "'Civic Center / Grand Park Station'\n",
      "'Pershing Square Station'\n",
      "'7th Street / Metro Center Station - Metro Red & Purple Lines'\n",
      "'Westlake / Macarthur Park Station'\n",
      "'Wilshire / Vermont Station'\n",
      "'Wilshire / Normandie Station'\n",
      "'Wilshire / Western Station'\n",
      "******\n",
      "cyan\n",
      "'7th Street / Metro Center Station - Metro A Line (Blue) & E Line (Expo)'\n",
      "'Pico Station'\n",
      "'Lattc / Ortho Institute Station'\n",
      "'Jefferson / Usc Station'\n",
      "'Expo Park / Usc Station'\n",
      "'Expo / Vermont Station'\n",
      "'Expo / Western Station'\n",
      "'Expo / Crenshaw Station'\n",
      "'Farmdale Station'\n",
      "'Expo / La Brea / Ethel Bradley Station'\n",
      "'La Cienega / Jefferson Station'\n",
      "'Culver City Station'\n",
      "'Palms Station'\n",
      "'Westwood / Rancho Park Station'\n",
      "'Expo / Sepulveda Station'\n",
      "'Expo / Bundy Station'\n",
      "'26th Street / Bergamot Station'\n",
      "'17th Street / Smc Station'\n",
      "'Downtown Santa Monica Station'\n",
      "******\n"
     ]
    }
   ],
   "source": [
    "for route in routes:\n",
    "    print(routes[route]['color'])\n",
    "    for i in range(stop_coordinates_and_distances[route]['no_of_stops']):\n",
    "        pprint.pprint(stops[route][i]['display_name'])\n",
    "    print(\"******\")\n",
    "    "
   ]
  },
  {
   "cell_type": "code",
   "execution_count": 7,
   "metadata": {},
   "outputs": [],
   "source": [
    "#After comparison\n",
    "stops_endpoints_direction= {}\n",
    "for route in routes:\n",
    "    stops_endpoints_direction[route] = {}\n",
    "for route in ['801', '802', '803', '804']:\n",
    "    stops_endpoints_direction[route]['start_id'] = stops[route][0]['id']\n",
    "    stops_endpoints_direction[route]['start_name'] = stops[route][0]['display_name']\n",
    "    stops_endpoints_direction[route]['end_id'] = stops[route][-1]['id']\n",
    "    stops_endpoints_direction[route]['end_name'] = stops[route][-1]['display_name']\n",
    "    stops_endpoints_direction[route]['is_in_dir_1'] = True\n",
    "for route in ['805', '806']:\n",
    "    stops_endpoints_direction[route]['start_id'] = stops[route][-1]['id']\n",
    "    stops_endpoints_direction[route]['start_name'] = stops[route][-1]['display_name']\n",
    "    stops_endpoints_direction[route]['end_id'] = stops[route][0]['id']\n",
    "    stops_endpoints_direction[route]['end_name'] = stops[route][0]['display_name']\n",
    "    stops_endpoints_direction[route]['is_in_dir_1'] = False   \n"
   ]
  },
  {
   "cell_type": "code",
   "execution_count": 13,
   "metadata": {},
   "outputs": [
    {
     "name": "stdout",
     "output_type": "stream",
     "text": [
      "blue\n",
      "7th Street / Metro Center Station - Metro A Line (Blue) & E Line (Expo)\n",
      "Downtown Long Beach Station\n",
      "*****\n",
      "red\n",
      "North Hollywood Station\n",
      "Union Station - Metro Red & Purple Lines\n",
      "*****\n",
      "green\n",
      "Redondo Beach Station\n",
      "Norwalk Station\n",
      "*****\n",
      "gold\n",
      "Atlantic Station\n",
      "Apu / Citrus College Station\n",
      "*****\n",
      "purple\n",
      "Wilshire / Western Station\n",
      "Union Station - Metro Red & Purple Lines\n",
      "*****\n",
      "cyan\n",
      "Downtown Santa Monica Station\n",
      "7th Street / Metro Center Station - Metro A Line (Blue) & E Line (Expo)\n",
      "*****\n"
     ]
    }
   ],
   "source": [
    "for route in routes:\n",
    "    print(routes[route]['color'])\n",
    "    print(stops_endpoints_direction[route]['start_name'])\n",
    "    print(stops_endpoints_direction[route]['end_name'])\n",
    "    print(\"*****\")"
   ]
  },
  {
   "cell_type": "markdown",
   "metadata": {},
   "source": [
    "# Storing as json files"
   ]
  },
  {
   "cell_type": "code",
   "execution_count": 77,
   "metadata": {},
   "outputs": [],
   "source": [
    "json_static_data = {'routes': routes, 'stops': stops , \n",
    "                    'stop_coordinates_and_distances':stop_coordinates_and_distances,\n",
    "                    'stops_endpoints_direction': stops_endpoints_direction}"
   ]
  },
  {
   "cell_type": "code",
   "execution_count": 78,
   "metadata": {},
   "outputs": [],
   "source": [
    "with open('json_static_data.json', 'w') as fp:\n",
    "    json.dump(json_static_data, fp)"
   ]
  },
  {
   "cell_type": "code",
   "execution_count": null,
   "metadata": {},
   "outputs": [],
   "source": []
  }
 ],
 "metadata": {
  "kernelspec": {
   "display_name": "Python 3",
   "language": "python",
   "name": "python3"
  },
  "language_info": {
   "codemirror_mode": {
    "name": "ipython",
    "version": 3
   },
   "file_extension": ".py",
   "mimetype": "text/x-python",
   "name": "python",
   "nbconvert_exporter": "python",
   "pygments_lexer": "ipython3",
   "version": "3.7.6"
  },
  "toc": {
   "base_numbering": 1,
   "nav_menu": {},
   "number_sections": true,
   "sideBar": true,
   "skip_h1_title": false,
   "title_cell": "Table of Contents",
   "title_sidebar": "Contents",
   "toc_cell": false,
   "toc_position": {},
   "toc_section_display": true,
   "toc_window_display": false
  }
 },
 "nbformat": 4,
 "nbformat_minor": 4
}
